{
 "cells": [
  {
   "cell_type": "markdown",
   "id": "8b52db74",
   "metadata": {},
   "source": [
    "# Google Search Scraper Test (Suggested by MIT Librarian & Ben)\n",
    "\n",
    "Requires the installations below:\n",
    "    requests\n",
    "    urllib\n",
    "    pandas\n",
    "    requests_html"
   ]
  },
  {
   "cell_type": "raw",
   "id": "ac65f340",
   "metadata": {},
   "source": [
    "Code below is found from https://practicaldatascience.co.uk/data-science/how-to-scrape-google-search-results-using-python "
   ]
  },
  {
   "cell_type": "code",
   "execution_count": null,
   "id": "4fc599ae",
   "metadata": {},
   "outputs": [],
   "source": [
    "import requests\n",
    "import urllib\n",
    "import pandas as pd\n",
    "from requests_html import HTML\n",
    "from requests_html import HTMLSession\n",
    "\n",
    "def get_source(url):\n",
    "    \"\"\"Return the source code for the provided URL. \n",
    "\n",
    "    Args: \n",
    "        url (string): URL of the page to scrape.\n",
    "\n",
    "    Returns:\n",
    "        response (object): HTTP response object from requests_html. \n",
    "    \"\"\"\n",
    "\n",
    "    try:\n",
    "        session = HTMLSession()\n",
    "        response = session.get(url)\n",
    "        return response\n",
    "\n",
    "    except requests.exceptions.RequestException as e:\n",
    "        print(e)\n",
    "\n",
    "def scrape_google(query):\n",
    "\n",
    "    query = urllib.parse.quote_plus(query)\n",
    "    response = get_source(\"https://www.google.com/search?q=\" + query)\n",
    "\n",
    "    links = list(response.html.absolute_links)\n",
    "    google_domains = ('https://www.google.', \n",
    "                      'https://google.', \n",
    "                      'https://webcache.googleusercontent.', \n",
    "                      'http://webcache.googleusercontent.', \n",
    "                      'https://policies.google.',\n",
    "                      'https://support.google.',\n",
    "                      'https://maps.google.')\n",
    "\n",
    "    for url in links[:]:\n",
    "        if url.startswith(google_domains):\n",
    "            links.remove(url)\n",
    "\n",
    "    return links"
   ]
  },
  {
   "cell_type": "raw",
   "id": "39010e32",
   "metadata": {},
   "source": [
    "When this program is tested out by placing \"print (scrape_google(\"data science blogs\"))\" without quotations and run, a total of 5 urls are generated."
   ]
  },
  {
   "cell_type": "code",
   "execution_count": null,
   "id": "727d5c0a",
   "metadata": {},
   "outputs": [],
   "source": [
    "print (scrape_google(\"data science blogs\"))"
   ]
  },
  {
   "cell_type": "raw",
   "id": "abc338f4",
   "metadata": {},
   "source": [
    "Results"
   ]
  },
  {
   "cell_type": "code",
   "execution_count": null,
   "id": "63ea83a2",
   "metadata": {},
   "outputs": [],
   "source": [
    "['https://blog.feedspot.com/data_science_blogs/', 'https://www.thinkful.com/blog/data-science-blogs/', 'https://365datascience.com/trending/51-data-science-blogs/', 'https://towardsdatascience.com/tagged/blog', 'https://github.com/rushter/data-science-blogs', 'https://www.rasmussen.edu/degrees/technology/blog/data-science-blogs/', 'https://www.tableau.com/learn/articles/data-science-blogs', 'https://www.assemblyai.com/blog/top-7-data-science-blogs-for-data-scientists-and-enthusiasts/', 'https://www.datacamp.com/blog', 'https://datasciencedojo.com/blog/']"
   ]
  },
  {
   "cell_type": "raw",
   "id": "ed6db426",
   "metadata": {},
   "source": [
    "This programs works very similarly to our method to call the Google API through Postman. The main difference is that this program does not require you to open Google to conduct the scraping. Therefore, similar to our issue with the Postman method, the URL results are truncated to what Google is allowing to be displayed: ~400 results."
   ]
  }
 ],
 "metadata": {
  "kernelspec": {
   "display_name": "Python 3 (ipykernel)",
   "language": "python",
   "name": "python3"
  },
  "language_info": {
   "codemirror_mode": {
    "name": "ipython",
    "version": 3
   },
   "file_extension": ".py",
   "mimetype": "text/x-python",
   "name": "python",
   "nbconvert_exporter": "python",
   "pygments_lexer": "ipython3",
   "version": "3.10.9"
  }
 },
 "nbformat": 4,
 "nbformat_minor": 5
}
